{
 "cells": [
  {
   "cell_type": "markdown",
   "id": "eb41b9d3",
   "metadata": {},
   "source": [
    "# Student Number:21203781\n",
    "# This Notebook Includes Classification Using Tabular Data and Text Data, by Implementing Different Machine Learning Models"
   ]
  },
  {
   "cell_type": "code",
   "execution_count": 1,
   "id": "751675b9",
   "metadata": {},
   "outputs": [],
   "source": [
    "#Importing all necessary packages\n",
    "import pandas as pd\n",
    "import numpy as np\n",
    "from sklearn import preprocessing\n",
    "from sklearn.model_selection import train_test_split\n",
    "import lazypredict\n",
    "from lazypredict.Supervised import LazyClassifier\n",
    "from sklearn.metrics import balanced_accuracy_score"
   ]
  },
  {
   "cell_type": "code",
   "execution_count": 2,
   "id": "a3849199",
   "metadata": {},
   "outputs": [
    {
     "data": {
      "text/html": [
       "<div>\n",
       "<style scoped>\n",
       "    .dataframe tbody tr th:only-of-type {\n",
       "        vertical-align: middle;\n",
       "    }\n",
       "\n",
       "    .dataframe tbody tr th {\n",
       "        vertical-align: top;\n",
       "    }\n",
       "\n",
       "    .dataframe thead th {\n",
       "        text-align: right;\n",
       "    }\n",
       "</style>\n",
       "<table border=\"1\" class=\"dataframe\">\n",
       "  <thead>\n",
       "    <tr style=\"text-align: right;\">\n",
       "      <th></th>\n",
       "      <th>customer_id</th>\n",
       "      <th>date</th>\n",
       "      <th>customer_gender</th>\n",
       "      <th>customer_age</th>\n",
       "      <th>customer_location</th>\n",
       "      <th>customer_type</th>\n",
       "      <th>has_cc</th>\n",
       "      <th>has_mortgage</th>\n",
       "      <th>convenience</th>\n",
       "      <th>customer_service</th>\n",
       "      <th>online_banking</th>\n",
       "      <th>interest_rates</th>\n",
       "      <th>fees_charges</th>\n",
       "      <th>community_involvement</th>\n",
       "      <th>products_services</th>\n",
       "      <th>privacy_security</th>\n",
       "      <th>reputation</th>\n",
       "      <th>satisfied</th>\n",
       "    </tr>\n",
       "  </thead>\n",
       "  <tbody>\n",
       "    <tr>\n",
       "      <th>0</th>\n",
       "      <td>216604</td>\n",
       "      <td>2022-08-22</td>\n",
       "      <td>Male</td>\n",
       "      <td>50.00</td>\n",
       "      <td>Munster</td>\n",
       "      <td>Personal</td>\n",
       "      <td>True</td>\n",
       "      <td>False</td>\n",
       "      <td>4.00</td>\n",
       "      <td>5.00</td>\n",
       "      <td>4.00</td>\n",
       "      <td>4.00</td>\n",
       "      <td>4.00</td>\n",
       "      <td>4.00</td>\n",
       "      <td>5.00</td>\n",
       "      <td>2.00</td>\n",
       "      <td>4.00</td>\n",
       "      <td>True</td>\n",
       "    </tr>\n",
       "    <tr>\n",
       "      <th>1</th>\n",
       "      <td>259276</td>\n",
       "      <td>2022-11-23</td>\n",
       "      <td>Female</td>\n",
       "      <td>61.00</td>\n",
       "      <td>Leinster</td>\n",
       "      <td>Personal</td>\n",
       "      <td>True</td>\n",
       "      <td>False</td>\n",
       "      <td>5.00</td>\n",
       "      <td>5.00</td>\n",
       "      <td>5.00</td>\n",
       "      <td>3.00</td>\n",
       "      <td>5.00</td>\n",
       "      <td>4.00</td>\n",
       "      <td>4.00</td>\n",
       "      <td>5.00</td>\n",
       "      <td>5.00</td>\n",
       "      <td>True</td>\n",
       "    </tr>\n",
       "    <tr>\n",
       "      <th>2</th>\n",
       "      <td>265459</td>\n",
       "      <td>2022-01-21</td>\n",
       "      <td>Female</td>\n",
       "      <td>63.00</td>\n",
       "      <td>Munster</td>\n",
       "      <td>Business</td>\n",
       "      <td>True</td>\n",
       "      <td>False</td>\n",
       "      <td>2.00</td>\n",
       "      <td>2.00</td>\n",
       "      <td>5.00</td>\n",
       "      <td>5.00</td>\n",
       "      <td>2.00</td>\n",
       "      <td>NaN</td>\n",
       "      <td>4.00</td>\n",
       "      <td>4.00</td>\n",
       "      <td>NaN</td>\n",
       "      <td>True</td>\n",
       "    </tr>\n",
       "    <tr>\n",
       "      <th>3</th>\n",
       "      <td>58770</td>\n",
       "      <td>2022-03-13</td>\n",
       "      <td>f</td>\n",
       "      <td>NaN</td>\n",
       "      <td>Leinster</td>\n",
       "      <td>Business</td>\n",
       "      <td>True</td>\n",
       "      <td>False</td>\n",
       "      <td>NaN</td>\n",
       "      <td>4.00</td>\n",
       "      <td>5.00</td>\n",
       "      <td>1.00</td>\n",
       "      <td>5.00</td>\n",
       "      <td>5.00</td>\n",
       "      <td>5.00</td>\n",
       "      <td>5.00</td>\n",
       "      <td>5.00</td>\n",
       "      <td>True</td>\n",
       "    </tr>\n",
       "    <tr>\n",
       "      <th>4</th>\n",
       "      <td>318031</td>\n",
       "      <td>2022-08-08</td>\n",
       "      <td>Female</td>\n",
       "      <td>41.00</td>\n",
       "      <td>Leinster</td>\n",
       "      <td>Personal</td>\n",
       "      <td>True</td>\n",
       "      <td>True</td>\n",
       "      <td>1.00</td>\n",
       "      <td>1.00</td>\n",
       "      <td>1.00</td>\n",
       "      <td>1.00</td>\n",
       "      <td>2.00</td>\n",
       "      <td>2.00</td>\n",
       "      <td>4.00</td>\n",
       "      <td>5.00</td>\n",
       "      <td>2.00</td>\n",
       "      <td>False</td>\n",
       "    </tr>\n",
       "    <tr>\n",
       "      <th>...</th>\n",
       "      <td>...</td>\n",
       "      <td>...</td>\n",
       "      <td>...</td>\n",
       "      <td>...</td>\n",
       "      <td>...</td>\n",
       "      <td>...</td>\n",
       "      <td>...</td>\n",
       "      <td>...</td>\n",
       "      <td>...</td>\n",
       "      <td>...</td>\n",
       "      <td>...</td>\n",
       "      <td>...</td>\n",
       "      <td>...</td>\n",
       "      <td>...</td>\n",
       "      <td>...</td>\n",
       "      <td>...</td>\n",
       "      <td>...</td>\n",
       "      <td>...</td>\n",
       "    </tr>\n",
       "    <tr>\n",
       "      <th>2995</th>\n",
       "      <td>322582</td>\n",
       "      <td>2021-09-23</td>\n",
       "      <td>Male</td>\n",
       "      <td>41.00</td>\n",
       "      <td>Munster</td>\n",
       "      <td>Personal</td>\n",
       "      <td>True</td>\n",
       "      <td>True</td>\n",
       "      <td>3.00</td>\n",
       "      <td>3.00</td>\n",
       "      <td>3.00</td>\n",
       "      <td>3.00</td>\n",
       "      <td>5.00</td>\n",
       "      <td>3.00</td>\n",
       "      <td>3.00</td>\n",
       "      <td>1.00</td>\n",
       "      <td>5.00</td>\n",
       "      <td>False</td>\n",
       "    </tr>\n",
       "    <tr>\n",
       "      <th>2996</th>\n",
       "      <td>53418</td>\n",
       "      <td>2021-03-07</td>\n",
       "      <td>f</td>\n",
       "      <td>57.00</td>\n",
       "      <td>Munster</td>\n",
       "      <td>Business</td>\n",
       "      <td>False</td>\n",
       "      <td>False</td>\n",
       "      <td>3.00</td>\n",
       "      <td>2.00</td>\n",
       "      <td>5.00</td>\n",
       "      <td>1.00</td>\n",
       "      <td>2.00</td>\n",
       "      <td>2.00</td>\n",
       "      <td>2.00</td>\n",
       "      <td>2.00</td>\n",
       "      <td>3.00</td>\n",
       "      <td>True</td>\n",
       "    </tr>\n",
       "    <tr>\n",
       "      <th>2997</th>\n",
       "      <td>79364</td>\n",
       "      <td>2021-08-01</td>\n",
       "      <td>m</td>\n",
       "      <td>NaN</td>\n",
       "      <td>Munster</td>\n",
       "      <td>Personal</td>\n",
       "      <td>True</td>\n",
       "      <td>True</td>\n",
       "      <td>3.00</td>\n",
       "      <td>3.00</td>\n",
       "      <td>3.00</td>\n",
       "      <td>4.00</td>\n",
       "      <td>4.00</td>\n",
       "      <td>3.00</td>\n",
       "      <td>4.00</td>\n",
       "      <td>4.00</td>\n",
       "      <td>4.00</td>\n",
       "      <td>False</td>\n",
       "    </tr>\n",
       "    <tr>\n",
       "      <th>2998</th>\n",
       "      <td>371134</td>\n",
       "      <td>2021-06-25</td>\n",
       "      <td>m</td>\n",
       "      <td>42.00</td>\n",
       "      <td>Leinster</td>\n",
       "      <td>Business</td>\n",
       "      <td>False</td>\n",
       "      <td>False</td>\n",
       "      <td>3.00</td>\n",
       "      <td>2.00</td>\n",
       "      <td>1.00</td>\n",
       "      <td>5.00</td>\n",
       "      <td>4.00</td>\n",
       "      <td>4.00</td>\n",
       "      <td>3.00</td>\n",
       "      <td>4.00</td>\n",
       "      <td>1.00</td>\n",
       "      <td>True</td>\n",
       "    </tr>\n",
       "    <tr>\n",
       "      <th>2999</th>\n",
       "      <td>109281</td>\n",
       "      <td>2022-10-04</td>\n",
       "      <td>Male</td>\n",
       "      <td>42.00</td>\n",
       "      <td>NaN</td>\n",
       "      <td>Business</td>\n",
       "      <td>True</td>\n",
       "      <td>False</td>\n",
       "      <td>2.00</td>\n",
       "      <td>3.00</td>\n",
       "      <td>5.00</td>\n",
       "      <td>5.00</td>\n",
       "      <td>2.00</td>\n",
       "      <td>2.00</td>\n",
       "      <td>2.00</td>\n",
       "      <td>2.00</td>\n",
       "      <td>3.00</td>\n",
       "      <td>True</td>\n",
       "    </tr>\n",
       "  </tbody>\n",
       "</table>\n",
       "<p>3000 rows × 18 columns</p>\n",
       "</div>"
      ],
      "text/plain": [
       "      customer_id        date customer_gender  customer_age customer_location  \\\n",
       "0          216604  2022-08-22            Male         50.00           Munster   \n",
       "1          259276  2022-11-23          Female         61.00          Leinster   \n",
       "2          265459  2022-01-21          Female         63.00           Munster   \n",
       "3           58770  2022-03-13               f           NaN          Leinster   \n",
       "4          318031  2022-08-08          Female         41.00          Leinster   \n",
       "...           ...         ...             ...           ...               ...   \n",
       "2995       322582  2021-09-23            Male         41.00           Munster   \n",
       "2996        53418  2021-03-07               f         57.00           Munster   \n",
       "2997        79364  2021-08-01               m           NaN           Munster   \n",
       "2998       371134  2021-06-25               m         42.00          Leinster   \n",
       "2999       109281  2022-10-04            Male         42.00               NaN   \n",
       "\n",
       "     customer_type  has_cc  has_mortgage  convenience  customer_service  \\\n",
       "0         Personal    True         False         4.00              5.00   \n",
       "1         Personal    True         False         5.00              5.00   \n",
       "2         Business    True         False         2.00              2.00   \n",
       "3         Business    True         False          NaN              4.00   \n",
       "4         Personal    True          True         1.00              1.00   \n",
       "...            ...     ...           ...          ...               ...   \n",
       "2995      Personal    True          True         3.00              3.00   \n",
       "2996      Business   False         False         3.00              2.00   \n",
       "2997      Personal    True          True         3.00              3.00   \n",
       "2998      Business   False         False         3.00              2.00   \n",
       "2999      Business    True         False         2.00              3.00   \n",
       "\n",
       "      online_banking  interest_rates  fees_charges  community_involvement  \\\n",
       "0               4.00            4.00          4.00                   4.00   \n",
       "1               5.00            3.00          5.00                   4.00   \n",
       "2               5.00            5.00          2.00                    NaN   \n",
       "3               5.00            1.00          5.00                   5.00   \n",
       "4               1.00            1.00          2.00                   2.00   \n",
       "...              ...             ...           ...                    ...   \n",
       "2995            3.00            3.00          5.00                   3.00   \n",
       "2996            5.00            1.00          2.00                   2.00   \n",
       "2997            3.00            4.00          4.00                   3.00   \n",
       "2998            1.00            5.00          4.00                   4.00   \n",
       "2999            5.00            5.00          2.00                   2.00   \n",
       "\n",
       "      products_services  privacy_security  reputation  satisfied  \n",
       "0                  5.00              2.00        4.00       True  \n",
       "1                  4.00              5.00        5.00       True  \n",
       "2                  4.00              4.00         NaN       True  \n",
       "3                  5.00              5.00        5.00       True  \n",
       "4                  4.00              5.00        2.00      False  \n",
       "...                 ...               ...         ...        ...  \n",
       "2995               3.00              1.00        5.00      False  \n",
       "2996               2.00              2.00        3.00       True  \n",
       "2997               4.00              4.00        4.00      False  \n",
       "2998               3.00              4.00        1.00       True  \n",
       "2999               2.00              2.00        3.00       True  \n",
       "\n",
       "[3000 rows x 18 columns]"
      ]
     },
     "execution_count": 2,
     "metadata": {},
     "output_type": "execute_result"
    }
   ],
   "source": [
    "#Importing the tabular data\n",
    "df = pd.read_csv(r\"E:\\Data Science-UCD\\bank-data\\bank-tabular.csv\", sep=\"\\t\")\n",
    "df"
   ]
  },
  {
   "cell_type": "code",
   "execution_count": 3,
   "id": "1cb3e5c5",
   "metadata": {},
   "outputs": [
    {
     "data": {
      "text/html": [
       "<div>\n",
       "<style scoped>\n",
       "    .dataframe tbody tr th:only-of-type {\n",
       "        vertical-align: middle;\n",
       "    }\n",
       "\n",
       "    .dataframe tbody tr th {\n",
       "        vertical-align: top;\n",
       "    }\n",
       "\n",
       "    .dataframe thead th {\n",
       "        text-align: right;\n",
       "    }\n",
       "</style>\n",
       "<table border=\"1\" class=\"dataframe\">\n",
       "  <thead>\n",
       "    <tr style=\"text-align: right;\">\n",
       "      <th></th>\n",
       "      <th>customer_id</th>\n",
       "      <th>date</th>\n",
       "      <th>comments</th>\n",
       "    </tr>\n",
       "  </thead>\n",
       "  <tbody>\n",
       "    <tr>\n",
       "      <th>0</th>\n",
       "      <td>216604</td>\n",
       "      <td>2022-08-22</td>\n",
       "      <td>Overal, this bank is satisfactory.</td>\n",
       "    </tr>\n",
       "    <tr>\n",
       "      <th>1</th>\n",
       "      <td>259276</td>\n",
       "      <td>2022-11-23</td>\n",
       "      <td>Easy to find zhe bank ' s branches and ATMs. A...</td>\n",
       "    </tr>\n",
       "    <tr>\n",
       "      <th>2</th>\n",
       "      <td>265459</td>\n",
       "      <td>2022-01-21</td>\n",
       "      <td>Bank's phone app is really great. In general a...</td>\n",
       "    </tr>\n",
       "    <tr>\n",
       "      <th>3</th>\n",
       "      <td>58770</td>\n",
       "      <td>2022-03-13</td>\n",
       "      <td>NaN</td>\n",
       "    </tr>\n",
       "    <tr>\n",
       "      <th>4</th>\n",
       "      <td>318031</td>\n",
       "      <td>2022-08-08</td>\n",
       "      <td>NaN</td>\n",
       "    </tr>\n",
       "    <tr>\n",
       "      <th>...</th>\n",
       "      <td>...</td>\n",
       "      <td>...</td>\n",
       "      <td>...</td>\n",
       "    </tr>\n",
       "    <tr>\n",
       "      <th>2995</th>\n",
       "      <td>322582</td>\n",
       "      <td>2021-09-23</td>\n",
       "      <td>No comment</td>\n",
       "    </tr>\n",
       "    <tr>\n",
       "      <th>2996</th>\n",
       "      <td>53418</td>\n",
       "      <td>2021-03-07</td>\n",
       "      <td>Online banking is really good</td>\n",
       "    </tr>\n",
       "    <tr>\n",
       "      <th>2997</th>\n",
       "      <td>79364</td>\n",
       "      <td>2021-08-01</td>\n",
       "      <td>customer service quality from this bank is ter...</td>\n",
       "    </tr>\n",
       "    <tr>\n",
       "      <th>2998</th>\n",
       "      <td>371134</td>\n",
       "      <td>2021-06-25</td>\n",
       "      <td>Great to see that my bank supports local sport...</td>\n",
       "    </tr>\n",
       "    <tr>\n",
       "      <th>2999</th>\n",
       "      <td>109281</td>\n",
       "      <td>2022-10-04</td>\n",
       "      <td>The bank ' a online platform is really impress...</td>\n",
       "    </tr>\n",
       "  </tbody>\n",
       "</table>\n",
       "<p>3000 rows × 3 columns</p>\n",
       "</div>"
      ],
      "text/plain": [
       "      customer_id        date  \\\n",
       "0          216604  2022-08-22   \n",
       "1          259276  2022-11-23   \n",
       "2          265459  2022-01-21   \n",
       "3           58770  2022-03-13   \n",
       "4          318031  2022-08-08   \n",
       "...           ...         ...   \n",
       "2995       322582  2021-09-23   \n",
       "2996        53418  2021-03-07   \n",
       "2997        79364  2021-08-01   \n",
       "2998       371134  2021-06-25   \n",
       "2999       109281  2022-10-04   \n",
       "\n",
       "                                               comments  \n",
       "0                    Overal, this bank is satisfactory.  \n",
       "1     Easy to find zhe bank ' s branches and ATMs. A...  \n",
       "2     Bank's phone app is really great. In general a...  \n",
       "3                                                   NaN  \n",
       "4                                                   NaN  \n",
       "...                                                 ...  \n",
       "2995                                         No comment  \n",
       "2996                      Online banking is really good  \n",
       "2997  customer service quality from this bank is ter...  \n",
       "2998  Great to see that my bank supports local sport...  \n",
       "2999  The bank ' a online platform is really impress...  \n",
       "\n",
       "[3000 rows x 3 columns]"
      ]
     },
     "execution_count": 3,
     "metadata": {},
     "output_type": "execute_result"
    }
   ],
   "source": [
    "#Importing the Text Data\n",
    "df_1 = pd.read_csv(r\"E:\\Data Science-UCD\\bank-data\\bank-comments.csv\", sep=\"\\t\")\n",
    "df_1"
   ]
  },
  {
   "cell_type": "code",
   "execution_count": 4,
   "id": "0e0d00b9",
   "metadata": {},
   "outputs": [
    {
     "data": {
      "text/html": [
       "<div>\n",
       "<style scoped>\n",
       "    .dataframe tbody tr th:only-of-type {\n",
       "        vertical-align: middle;\n",
       "    }\n",
       "\n",
       "    .dataframe tbody tr th {\n",
       "        vertical-align: top;\n",
       "    }\n",
       "\n",
       "    .dataframe thead th {\n",
       "        text-align: right;\n",
       "    }\n",
       "</style>\n",
       "<table border=\"1\" class=\"dataframe\">\n",
       "  <thead>\n",
       "    <tr style=\"text-align: right;\">\n",
       "      <th></th>\n",
       "      <th>comments</th>\n",
       "      <th>satisfied</th>\n",
       "    </tr>\n",
       "    <tr>\n",
       "      <th>customer_id</th>\n",
       "      <th></th>\n",
       "      <th></th>\n",
       "    </tr>\n",
       "  </thead>\n",
       "  <tbody>\n",
       "    <tr>\n",
       "      <th>216604</th>\n",
       "      <td>Overal, this bank is satisfactory.</td>\n",
       "      <td>True</td>\n",
       "    </tr>\n",
       "    <tr>\n",
       "      <th>259276</th>\n",
       "      <td>Easy to find zhe bank ' s branches and ATMs. A...</td>\n",
       "      <td>True</td>\n",
       "    </tr>\n",
       "    <tr>\n",
       "      <th>265459</th>\n",
       "      <td>Bank's phone app is really great. In general a...</td>\n",
       "      <td>True</td>\n",
       "    </tr>\n",
       "    <tr>\n",
       "      <th>58770</th>\n",
       "      <td>NaN</td>\n",
       "      <td>True</td>\n",
       "    </tr>\n",
       "    <tr>\n",
       "      <th>318031</th>\n",
       "      <td>NaN</td>\n",
       "      <td>False</td>\n",
       "    </tr>\n",
       "    <tr>\n",
       "      <th>...</th>\n",
       "      <td>...</td>\n",
       "      <td>...</td>\n",
       "    </tr>\n",
       "    <tr>\n",
       "      <th>322582</th>\n",
       "      <td>No comment</td>\n",
       "      <td>False</td>\n",
       "    </tr>\n",
       "    <tr>\n",
       "      <th>53418</th>\n",
       "      <td>Online banking is really good</td>\n",
       "      <td>True</td>\n",
       "    </tr>\n",
       "    <tr>\n",
       "      <th>79364</th>\n",
       "      <td>customer service quality from this bank is ter...</td>\n",
       "      <td>False</td>\n",
       "    </tr>\n",
       "    <tr>\n",
       "      <th>371134</th>\n",
       "      <td>Great to see that my bank supports local sport...</td>\n",
       "      <td>True</td>\n",
       "    </tr>\n",
       "    <tr>\n",
       "      <th>109281</th>\n",
       "      <td>The bank ' a online platform is really impress...</td>\n",
       "      <td>True</td>\n",
       "    </tr>\n",
       "  </tbody>\n",
       "</table>\n",
       "<p>3000 rows × 2 columns</p>\n",
       "</div>"
      ],
      "text/plain": [
       "                                                      comments  satisfied\n",
       "customer_id                                                              \n",
       "216604                      Overal, this bank is satisfactory.       True\n",
       "259276       Easy to find zhe bank ' s branches and ATMs. A...       True\n",
       "265459       Bank's phone app is really great. In general a...       True\n",
       "58770                                                      NaN       True\n",
       "318031                                                     NaN      False\n",
       "...                                                        ...        ...\n",
       "322582                                              No comment      False\n",
       "53418                            Online banking is really good       True\n",
       "79364        customer service quality from this bank is ter...      False\n",
       "371134       Great to see that my bank supports local sport...       True\n",
       "109281       The bank ' a online platform is really impress...       True\n",
       "\n",
       "[3000 rows x 2 columns]"
      ]
     },
     "execution_count": 4,
     "metadata": {},
     "output_type": "execute_result"
    }
   ],
   "source": [
    "#Assigning the New Data Frame as a Combination of both the Text and Tabular Data\n",
    "df2 = pd.DataFrame().assign(customer_id=df['customer_id'], comments=df_1['comments'], satisfied=df['satisfied']).set_index('customer_id')\n",
    "df2"
   ]
  },
  {
   "cell_type": "markdown",
   "id": "5e88623a",
   "metadata": {},
   "source": [
    "## Data Preparation"
   ]
  },
  {
   "cell_type": "code",
   "execution_count": 5,
   "id": "25cac445",
   "metadata": {},
   "outputs": [
    {
     "data": {
      "text/html": [
       "<div>\n",
       "<style scoped>\n",
       "    .dataframe tbody tr th:only-of-type {\n",
       "        vertical-align: middle;\n",
       "    }\n",
       "\n",
       "    .dataframe tbody tr th {\n",
       "        vertical-align: top;\n",
       "    }\n",
       "\n",
       "    .dataframe thead th {\n",
       "        text-align: right;\n",
       "    }\n",
       "</style>\n",
       "<table border=\"1\" class=\"dataframe\">\n",
       "  <thead>\n",
       "    <tr style=\"text-align: right;\">\n",
       "      <th></th>\n",
       "      <th>comments</th>\n",
       "      <th>satisfied</th>\n",
       "    </tr>\n",
       "    <tr>\n",
       "      <th>customer_id</th>\n",
       "      <th></th>\n",
       "      <th></th>\n",
       "    </tr>\n",
       "  </thead>\n",
       "  <tbody>\n",
       "    <tr>\n",
       "      <th>216604</th>\n",
       "      <td>Overal, this bank is satisfactory.</td>\n",
       "      <td>1</td>\n",
       "    </tr>\n",
       "    <tr>\n",
       "      <th>259276</th>\n",
       "      <td>Easy to find zhe bank ' s branches and ATMs. A...</td>\n",
       "      <td>1</td>\n",
       "    </tr>\n",
       "    <tr>\n",
       "      <th>265459</th>\n",
       "      <td>Bank's phone app is really great. In general a...</td>\n",
       "      <td>1</td>\n",
       "    </tr>\n",
       "    <tr>\n",
       "      <th>58770</th>\n",
       "      <td>NaN</td>\n",
       "      <td>1</td>\n",
       "    </tr>\n",
       "    <tr>\n",
       "      <th>318031</th>\n",
       "      <td>NaN</td>\n",
       "      <td>0</td>\n",
       "    </tr>\n",
       "    <tr>\n",
       "      <th>...</th>\n",
       "      <td>...</td>\n",
       "      <td>...</td>\n",
       "    </tr>\n",
       "    <tr>\n",
       "      <th>322582</th>\n",
       "      <td>No comment</td>\n",
       "      <td>0</td>\n",
       "    </tr>\n",
       "    <tr>\n",
       "      <th>53418</th>\n",
       "      <td>Online banking is really good</td>\n",
       "      <td>1</td>\n",
       "    </tr>\n",
       "    <tr>\n",
       "      <th>79364</th>\n",
       "      <td>customer service quality from this bank is ter...</td>\n",
       "      <td>0</td>\n",
       "    </tr>\n",
       "    <tr>\n",
       "      <th>371134</th>\n",
       "      <td>Great to see that my bank supports local sport...</td>\n",
       "      <td>1</td>\n",
       "    </tr>\n",
       "    <tr>\n",
       "      <th>109281</th>\n",
       "      <td>The bank ' a online platform is really impress...</td>\n",
       "      <td>1</td>\n",
       "    </tr>\n",
       "  </tbody>\n",
       "</table>\n",
       "<p>3000 rows × 2 columns</p>\n",
       "</div>"
      ],
      "text/plain": [
       "                                                      comments  satisfied\n",
       "customer_id                                                              \n",
       "216604                      Overal, this bank is satisfactory.          1\n",
       "259276       Easy to find zhe bank ' s branches and ATMs. A...          1\n",
       "265459       Bank's phone app is really great. In general a...          1\n",
       "58770                                                      NaN          1\n",
       "318031                                                     NaN          0\n",
       "...                                                        ...        ...\n",
       "322582                                              No comment          0\n",
       "53418                            Online banking is really good          1\n",
       "79364        customer service quality from this bank is ter...          0\n",
       "371134       Great to see that my bank supports local sport...          1\n",
       "109281       The bank ' a online platform is really impress...          1\n",
       "\n",
       "[3000 rows x 2 columns]"
      ]
     },
     "execution_count": 5,
     "metadata": {},
     "output_type": "execute_result"
    }
   ],
   "source": [
    "#converting boolean data for dependent variable to binary\n",
    "for col_name in df2.columns:\n",
    "    if(df2[col_name].dtype == 'bool'):\n",
    "        df2[col_name]= df2[col_name].astype('category')\n",
    "        df2[col_name] = df2[col_name].cat.codes\n",
    "df2"
   ]
  },
  {
   "cell_type": "code",
   "execution_count": 6,
   "id": "129f3c49",
   "metadata": {},
   "outputs": [
    {
     "data": {
      "text/plain": [
       "comments     515\n",
       "satisfied      0\n",
       "dtype: int64"
      ]
     },
     "execution_count": 6,
     "metadata": {},
     "output_type": "execute_result"
    }
   ],
   "source": [
    "#checking for missing comments\n",
    "df2.isna().sum()"
   ]
  },
  {
   "cell_type": "code",
   "execution_count": 7,
   "id": "994fe067",
   "metadata": {},
   "outputs": [],
   "source": [
    "#replacing missing comments with most frequently occuring comment, as the number of missing data points is almost 20% the total data\n",
    "from sklearn.impute import SimpleImputer\n",
    "\n",
    "imputer = SimpleImputer(strategy='most_frequent')\n",
    "df2['comments'] = imputer.fit_transform(df2[['comments']])\n"
   ]
  },
  {
   "cell_type": "markdown",
   "id": "7fdb4475",
   "metadata": {},
   "source": [
    "## Data Split for training"
   ]
  },
  {
   "cell_type": "code",
   "execution_count": 8,
   "id": "cb1647f3",
   "metadata": {},
   "outputs": [
    {
     "data": {
      "text/plain": [
       "0    1737\n",
       "1    1263\n",
       "Name: satisfied, dtype: int64"
      ]
     },
     "execution_count": 8,
     "metadata": {},
     "output_type": "execute_result"
    }
   ],
   "source": [
    "#Assigning Target Variable for Training\n",
    "target = df2[\"satisfied\"]\n",
    "target.value_counts()"
   ]
  },
  {
   "cell_type": "code",
   "execution_count": 9,
   "id": "e2d7af6e",
   "metadata": {},
   "outputs": [
    {
     "name": "stdout",
     "output_type": "stream",
     "text": [
      "(3000, 342)\n"
     ]
    }
   ],
   "source": [
    "# the content for all documents\n",
    "documents = df2[\"comments\"]\n",
    "# apply the vectorization process\n",
    "from sklearn.feature_extraction.text import CountVectorizer\n",
    "vectorizer = CountVectorizer(min_df = 10, stop_words=None)\n",
    "X = vectorizer.fit_transform(documents)\n",
    "# check the size of the resulting representation\n",
    "print(X.shape)"
   ]
  },
  {
   "cell_type": "code",
   "execution_count": 10,
   "id": "1576c8ab",
   "metadata": {},
   "outputs": [
    {
     "name": "stdout",
     "output_type": "stream",
     "text": [
      "Vocabulary has 342 distinct terms\n"
     ]
    }
   ],
   "source": [
    "# check the number of terms/words in our preprocessed vocabulary\n",
    "terms = vectorizer.get_feature_names_out()\n",
    "print(\"Vocabulary has %d distinct terms\" % len(terms))"
   ]
  },
  {
   "cell_type": "code",
   "execution_count": 11,
   "id": "91b93574",
   "metadata": {},
   "outputs": [
    {
     "name": "stdout",
     "output_type": "stream",
     "text": [
      "Training set has 2100 tweets\n",
      "Test set has 900 tweets\n"
     ]
    }
   ],
   "source": [
    "# perform the train-test split \n",
    "from sklearn.model_selection import train_test_split\n",
    "data_train, data_test, target_train, target_test = train_test_split(X, target, test_size=0.3)\n",
    "# we will just check how many tweets in each set\n",
    "print(\"Training set has %d tweets\" % data_train.shape[0] )\n",
    "print(\"Test set has %d tweets\" % data_test.shape[0] )"
   ]
  },
  {
   "cell_type": "markdown",
   "id": "df659bca",
   "metadata": {},
   "source": [
    "## Training Different Machine Learning Models to be Trained on the Data, which will finally be compared at the end"
   ]
  },
  {
   "cell_type": "code",
   "execution_count": 12,
   "id": "b6ee6636",
   "metadata": {},
   "outputs": [
    {
     "data": {
      "text/html": [
       "<style>#sk-container-id-1 {color: black;background-color: white;}#sk-container-id-1 pre{padding: 0;}#sk-container-id-1 div.sk-toggleable {background-color: white;}#sk-container-id-1 label.sk-toggleable__label {cursor: pointer;display: block;width: 100%;margin-bottom: 0;padding: 0.3em;box-sizing: border-box;text-align: center;}#sk-container-id-1 label.sk-toggleable__label-arrow:before {content: \"▸\";float: left;margin-right: 0.25em;color: #696969;}#sk-container-id-1 label.sk-toggleable__label-arrow:hover:before {color: black;}#sk-container-id-1 div.sk-estimator:hover label.sk-toggleable__label-arrow:before {color: black;}#sk-container-id-1 div.sk-toggleable__content {max-height: 0;max-width: 0;overflow: hidden;text-align: left;background-color: #f0f8ff;}#sk-container-id-1 div.sk-toggleable__content pre {margin: 0.2em;color: black;border-radius: 0.25em;background-color: #f0f8ff;}#sk-container-id-1 input.sk-toggleable__control:checked~div.sk-toggleable__content {max-height: 200px;max-width: 100%;overflow: auto;}#sk-container-id-1 input.sk-toggleable__control:checked~label.sk-toggleable__label-arrow:before {content: \"▾\";}#sk-container-id-1 div.sk-estimator input.sk-toggleable__control:checked~label.sk-toggleable__label {background-color: #d4ebff;}#sk-container-id-1 div.sk-label input.sk-toggleable__control:checked~label.sk-toggleable__label {background-color: #d4ebff;}#sk-container-id-1 input.sk-hidden--visually {border: 0;clip: rect(1px 1px 1px 1px);clip: rect(1px, 1px, 1px, 1px);height: 1px;margin: -1px;overflow: hidden;padding: 0;position: absolute;width: 1px;}#sk-container-id-1 div.sk-estimator {font-family: monospace;background-color: #f0f8ff;border: 1px dotted black;border-radius: 0.25em;box-sizing: border-box;margin-bottom: 0.5em;}#sk-container-id-1 div.sk-estimator:hover {background-color: #d4ebff;}#sk-container-id-1 div.sk-parallel-item::after {content: \"\";width: 100%;border-bottom: 1px solid gray;flex-grow: 1;}#sk-container-id-1 div.sk-label:hover label.sk-toggleable__label {background-color: #d4ebff;}#sk-container-id-1 div.sk-serial::before {content: \"\";position: absolute;border-left: 1px solid gray;box-sizing: border-box;top: 0;bottom: 0;left: 50%;z-index: 0;}#sk-container-id-1 div.sk-serial {display: flex;flex-direction: column;align-items: center;background-color: white;padding-right: 0.2em;padding-left: 0.2em;position: relative;}#sk-container-id-1 div.sk-item {position: relative;z-index: 1;}#sk-container-id-1 div.sk-parallel {display: flex;align-items: stretch;justify-content: center;background-color: white;position: relative;}#sk-container-id-1 div.sk-item::before, #sk-container-id-1 div.sk-parallel-item::before {content: \"\";position: absolute;border-left: 1px solid gray;box-sizing: border-box;top: 0;bottom: 0;left: 50%;z-index: -1;}#sk-container-id-1 div.sk-parallel-item {display: flex;flex-direction: column;z-index: 1;position: relative;background-color: white;}#sk-container-id-1 div.sk-parallel-item:first-child::after {align-self: flex-end;width: 50%;}#sk-container-id-1 div.sk-parallel-item:last-child::after {align-self: flex-start;width: 50%;}#sk-container-id-1 div.sk-parallel-item:only-child::after {width: 0;}#sk-container-id-1 div.sk-dashed-wrapped {border: 1px dashed gray;margin: 0 0.4em 0.5em 0.4em;box-sizing: border-box;padding-bottom: 0.4em;background-color: white;}#sk-container-id-1 div.sk-label label {font-family: monospace;font-weight: bold;display: inline-block;line-height: 1.2em;}#sk-container-id-1 div.sk-label-container {text-align: center;}#sk-container-id-1 div.sk-container {/* jupyter's `normalize.less` sets `[hidden] { display: none; }` but bootstrap.min.css set `[hidden] { display: none !important; }` so we also need the `!important` here to be able to override the default hidden behavior on the sphinx rendered scikit-learn.org. See: https://github.com/scikit-learn/scikit-learn/issues/21755 */display: inline-block !important;position: relative;}#sk-container-id-1 div.sk-text-repr-fallback {display: none;}</style><div id=\"sk-container-id-1\" class=\"sk-top-container\"><div class=\"sk-text-repr-fallback\"><pre>KNeighborsClassifier(n_neighbors=3)</pre><b>In a Jupyter environment, please rerun this cell to show the HTML representation or trust the notebook. <br />On GitHub, the HTML representation is unable to render, please try loading this page with nbviewer.org.</b></div><div class=\"sk-container\" hidden><div class=\"sk-item\"><div class=\"sk-estimator sk-toggleable\"><input class=\"sk-toggleable__control sk-hidden--visually\" id=\"sk-estimator-id-1\" type=\"checkbox\" checked><label for=\"sk-estimator-id-1\" class=\"sk-toggleable__label sk-toggleable__label-arrow\">KNeighborsClassifier</label><div class=\"sk-toggleable__content\"><pre>KNeighborsClassifier(n_neighbors=3)</pre></div></div></div></div></div>"
      ],
      "text/plain": [
       "KNeighborsClassifier(n_neighbors=3)"
      ]
     },
     "execution_count": 12,
     "metadata": {},
     "output_type": "execute_result"
    }
   ],
   "source": [
    "# prepare the k-NN classification model, for 3 nearest neighbours in this case\n",
    "from sklearn.neighbors import KNeighborsClassifier\n",
    "model = KNeighborsClassifier(n_neighbors=3)\n",
    "model.fit(data_train, target_train)"
   ]
  },
  {
   "cell_type": "code",
   "execution_count": 13,
   "id": "b70aaf2c",
   "metadata": {},
   "outputs": [
    {
     "data": {
      "text/plain": [
       "array([0, 1, 0, 0, 0, 1, 0, 0, 0, 1, 0, 1, 1, 0, 1, 0, 0, 0, 1, 0, 0, 1,\n",
       "       1, 0, 0, 0, 1, 0, 0, 1, 1, 0, 0, 1, 0, 1, 1, 0, 0, 0, 1, 0, 0, 0,\n",
       "       0, 1, 1, 1, 0, 0, 0, 1, 0, 0, 1, 0, 0, 0, 0, 1, 1, 0, 0, 0, 1, 0,\n",
       "       0, 0, 0, 0, 1, 0, 0, 0, 0, 0, 0, 0, 1, 1, 0, 0, 0, 1, 0, 0, 0, 0,\n",
       "       0, 1, 1, 1, 0, 0, 1, 0, 0, 1, 1, 0, 0, 0, 0, 0, 0, 1, 0, 0, 0, 0,\n",
       "       1, 0, 0, 0, 0, 0, 0, 0, 0, 1, 1, 0, 0, 1, 1, 1, 1, 0, 1, 1, 1, 0,\n",
       "       1, 0, 1, 0, 1, 1, 0, 0, 0, 1, 0, 1, 0, 0, 0, 0, 0, 1, 0, 0, 0, 0,\n",
       "       0, 0, 1, 0, 0, 1, 1, 1, 0, 0, 0, 0, 0, 0, 0, 0, 1, 0, 1, 0, 0, 0,\n",
       "       0, 0, 0, 0, 0, 0, 0, 0, 0, 0, 0, 0, 1, 0, 1, 1, 0, 1, 0, 0, 0, 0,\n",
       "       0, 1, 1, 1, 0, 0, 0, 1, 0, 0, 1, 0, 0, 1, 0, 0, 1, 1, 0, 0, 1, 0,\n",
       "       0, 1, 0, 1, 0, 0, 0, 1, 1, 0, 0, 0, 1, 1, 0, 1, 0, 1, 1, 0, 0, 0,\n",
       "       0, 0, 0, 0, 0, 1, 0, 1, 0, 0, 0, 1, 0, 1, 1, 1, 1, 0, 1, 0, 0, 1,\n",
       "       0, 1, 0, 1, 0, 0, 0, 0, 0, 0, 1, 0, 0, 0, 0, 0, 0, 0, 1, 1, 0, 1,\n",
       "       0, 0, 1, 0, 0, 1, 0, 0, 0, 0, 0, 0, 0, 0, 0, 0, 0, 0, 0, 1, 0, 0,\n",
       "       0, 0, 0, 1, 1, 0, 1, 1, 0, 0, 1, 1, 0, 0, 0, 0, 0, 0, 0, 0, 0, 0,\n",
       "       1, 0, 0, 0, 1, 0, 0, 0, 0, 0, 0, 0, 0, 1, 1, 0, 1, 1, 0, 1, 0, 0,\n",
       "       0, 0, 1, 1, 0, 1, 1, 0, 1, 0, 0, 0, 1, 0, 0, 0, 0, 0, 1, 0, 0, 0,\n",
       "       0, 1, 0, 0, 0, 1, 1, 1, 1, 0, 1, 0, 0, 1, 0, 0, 0, 1, 0, 1, 0, 1,\n",
       "       0, 0, 1, 1, 1, 1, 1, 1, 0, 1, 1, 0, 0, 1, 0, 0, 1, 1, 1, 1, 0, 0,\n",
       "       0, 0, 0, 0, 0, 0, 0, 0, 0, 0, 0, 0, 1, 0, 0, 1, 0, 1, 1, 0, 0, 0,\n",
       "       0, 0, 1, 0, 0, 0, 0, 1, 0, 0, 1, 1, 0, 0, 1, 0, 0, 0, 0, 1, 0, 0,\n",
       "       0, 1, 0, 0, 1, 0, 1, 0, 1, 1, 0, 0, 0, 0, 0, 0, 0, 1, 1, 0, 1, 0,\n",
       "       0, 0, 0, 0, 0, 0, 0, 0, 0, 1, 0, 0, 1, 0, 1, 0, 0, 0, 1, 0, 0, 1,\n",
       "       0, 0, 0, 0, 0, 0, 1, 1, 1, 1, 0, 1, 1, 1, 1, 0, 0, 1, 1, 0, 0, 0,\n",
       "       0, 0, 0, 1, 0, 0, 0, 1, 0, 0, 0, 0, 0, 0, 0, 0, 0, 0, 1, 0, 1, 1,\n",
       "       1, 1, 1, 0, 1, 1, 1, 0, 0, 0, 1, 1, 0, 0, 0, 1, 1, 1, 0, 0, 1, 0,\n",
       "       0, 1, 0, 1, 1, 0, 1, 1, 0, 0, 1, 0, 0, 1, 0, 1, 0, 0, 1, 0, 0, 1,\n",
       "       0, 0, 0, 0, 1, 0, 0, 0, 0, 0, 0, 1, 0, 0, 0, 1, 0, 0, 0, 0, 0, 1,\n",
       "       0, 0, 0, 0, 0, 0, 1, 1, 1, 0, 1, 1, 0, 0, 0, 0, 0, 0, 0, 0, 0, 1,\n",
       "       0, 0, 0, 1, 0, 0, 0, 0, 0, 0, 0, 1, 0, 0, 0, 0, 0, 0, 0, 0, 1, 0,\n",
       "       1, 0, 1, 0, 1, 1, 0, 0, 0, 0, 0, 1, 0, 0, 1, 1, 0, 0, 0, 0, 0, 0,\n",
       "       1, 1, 0, 0, 0, 1, 1, 0, 0, 0, 1, 1, 1, 1, 0, 0, 0, 0, 0, 1, 1, 0,\n",
       "       0, 1, 0, 0, 0, 0, 0, 0, 0, 1, 0, 0, 0, 1, 0, 0, 0, 1, 0, 0, 0, 0,\n",
       "       1, 0, 0, 1, 0, 0, 0, 0, 0, 0, 0, 0, 0, 0, 0, 0, 1, 1, 0, 0, 1, 0,\n",
       "       0, 0, 0, 0, 0, 0, 1, 1, 0, 1, 0, 0, 0, 0, 0, 0, 0, 0, 1, 0, 1, 0,\n",
       "       1, 0, 1, 0, 0, 0, 0, 1, 1, 0, 1, 0, 1, 0, 0, 0, 0, 0, 1, 0, 0, 0,\n",
       "       0, 0, 0, 0, 0, 0, 0, 0, 0, 0, 0, 0, 0, 0, 1, 0, 0, 1, 0, 0, 1, 0,\n",
       "       0, 0, 0, 0, 0, 0, 0, 0, 0, 0, 0, 0, 0, 0, 1, 1, 0, 0, 0, 1, 1, 1,\n",
       "       0, 1, 0, 0, 0, 1, 0, 0, 0, 0, 1, 1, 0, 1, 0, 1, 0, 1, 0, 0, 0, 0,\n",
       "       0, 1, 0, 0, 1, 1, 1, 0, 0, 0, 0, 0, 0, 0, 0, 0, 1, 0, 1, 0, 0, 0,\n",
       "       0, 0, 0, 1, 0, 0, 0, 0, 0, 0, 1, 0, 0, 0, 1, 0, 0, 0, 0, 0],\n",
       "      dtype=int8)"
      ]
     },
     "execution_count": 13,
     "metadata": {},
     "output_type": "execute_result"
    }
   ],
   "source": [
    "# make predictions for the tweets in the test set\n",
    "predicted = model.predict(data_test)\n",
    "predicted"
   ]
  },
  {
   "cell_type": "code",
   "execution_count": 14,
   "id": "e716a7de",
   "metadata": {},
   "outputs": [
    {
     "name": "stdout",
     "output_type": "stream",
     "text": [
      "Accuracy = 0.8489\n",
      "Balanced Accuracy = 0.8263\n"
     ]
    }
   ],
   "source": [
    "# now we will evaluate the performance of the classifier\n",
    "from sklearn.metrics import accuracy_score\n",
    "print(\"Accuracy = %.4f\" % accuracy_score(target_test, predicted))\n",
    "print(\"Balanced Accuracy = %.4f\" % balanced_accuracy_score(target_test, predicted))"
   ]
  },
  {
   "cell_type": "code",
   "execution_count": 15,
   "id": "1cb6a91c",
   "metadata": {},
   "outputs": [
    {
     "name": "stdout",
     "output_type": "stream",
     "text": [
      "Accuracy = 0.8650\n",
      "Balanced Accuracy = 0.8455\n"
     ]
    }
   ],
   "source": [
    "#Repeating the classification and evaluation process again using a different train/test split\n",
    "data_train, data_test, target_train, target_test = train_test_split(X, target, test_size=0.2)\n",
    "model = KNeighborsClassifier(n_neighbors=3)\n",
    "model.fit(data_train, target_train)\n",
    "predicted = model.predict(data_test)\n",
    "print(\"Accuracy = %.4f\" % accuracy_score(target_test, predicted))\n",
    "print(\"Balanced Accuracy = %.4f\" % balanced_accuracy_score(target_test, predicted))"
   ]
  },
  {
   "cell_type": "code",
   "execution_count": 16,
   "id": "bd03100e",
   "metadata": {},
   "outputs": [],
   "source": [
    "from sklearn.model_selection import cross_val_score\n",
    "# create a single classifier\n",
    "model = KNeighborsClassifier(n_neighbors=3)\n",
    "# apply 5-fold cross-validation, measuring accuracy each time\n",
    "acc_scores = cross_val_score(model, X, target, cv=5, scoring=\"accuracy\")"
   ]
  },
  {
   "cell_type": "code",
   "execution_count": 17,
   "id": "65fc984e",
   "metadata": {},
   "outputs": [
    {
     "data": {
      "text/plain": [
       "Fold 1   0.81\n",
       "Fold 2   0.84\n",
       "Fold 3   0.88\n",
       "Fold 4   0.85\n",
       "Fold 5   0.86\n",
       "dtype: float64"
      ]
     },
     "execution_count": 17,
     "metadata": {},
     "output_type": "execute_result"
    }
   ],
   "source": [
    "# represent the results as a Pandas Series\n",
    "labels = [\"Fold %d\" % i for i in range(1,len(acc_scores)+1)]\n",
    "s_acc = pd.Series(acc_scores, index = labels)\n",
    "s_acc"
   ]
  },
  {
   "cell_type": "code",
   "execution_count": 18,
   "id": "acd887df",
   "metadata": {},
   "outputs": [
    {
     "name": "stdout",
     "output_type": "stream",
     "text": [
      "Mean accuracy: 0.8470\n"
     ]
    }
   ],
   "source": [
    "# overall average accuracy\n",
    "print(\"Mean accuracy: %.4f\" % s_acc.mean())"
   ]
  },
  {
   "cell_type": "code",
   "execution_count": 19,
   "id": "9a5742e9",
   "metadata": {},
   "outputs": [
    {
     "name": "stdout",
     "output_type": "stream",
     "text": [
      "score on test: 0.8933333333333333\n",
      "score on train: 0.88875\n",
      "Balanced Accuracy = 0.8727\n"
     ]
    }
   ],
   "source": [
    "#LogisticRegression\n",
    "from sklearn.linear_model import LogisticRegression\n",
    "lr=LogisticRegression(max_iter=1000)\n",
    "lr.fit(data_train, target_train)\n",
    "print(\"score on test: \" + str(lr.score(data_test, target_test)))\n",
    "print(\"score on train: \"+ str(lr.score(data_train, target_train)))\n",
    "predict_lr=lr.predict(data_test)\n",
    "print(\"Balanced Accuracy = %.4f\" % balanced_accuracy_score(target_test, predict_lr))"
   ]
  },
  {
   "cell_type": "code",
   "execution_count": 20,
   "id": "813486b0",
   "metadata": {},
   "outputs": [
    {
     "name": "stdout",
     "output_type": "stream",
     "text": [
      "score on test: 0.6766666666666666\n",
      "score on train: 0.69125\n",
      "Balanced Accuracy = 0.6104\n"
     ]
    }
   ],
   "source": [
    "#SVM\n",
    "from sklearn.svm import LinearSVC\n",
    "svm=LinearSVC(C=0.0001)\n",
    "svm.fit(data_train, target_train)\n",
    "print(\"score on test: \" + str(svm.score(data_test, target_test)))\n",
    "print(\"score on train: \"+ str(svm.score(data_train, target_train)))\n",
    "predict_svm=svm.predict(data_test)\n",
    "print(\"Balanced Accuracy = %.4f\" % balanced_accuracy_score(target_test, predict_svm))"
   ]
  },
  {
   "cell_type": "code",
   "execution_count": 21,
   "id": "e7f36ddd",
   "metadata": {},
   "outputs": [
    {
     "name": "stdout",
     "output_type": "stream",
     "text": [
      "score on test: 0.8766666666666667\n",
      "score on train: 0.8979166666666667\n",
      "Balanced Accuracy = 0.8561\n"
     ]
    }
   ],
   "source": [
    "#Decision Trees\n",
    "from sklearn.tree import DecisionTreeClassifier\n",
    "dt = DecisionTreeClassifier()\n",
    "dt.fit(data_train, target_train)\n",
    "print(\"score on test: \"  + str(dt.score(data_test, target_test)))\n",
    "print(\"score on train: \" + str(dt.score(data_train, target_train)))\n",
    "predict_dt=dt.predict(data_test)\n",
    "print(\"Balanced Accuracy = %.4f\" % balanced_accuracy_score(target_test, predict_dt))"
   ]
  },
  {
   "cell_type": "code",
   "execution_count": 22,
   "id": "c7874676",
   "metadata": {},
   "outputs": [
    {
     "name": "stdout",
     "output_type": "stream",
     "text": [
      "score on test: 0.6416666666666667\n",
      "score on train: 0.6529166666666667\n",
      "Balanced Accuracy = 0.5683\n"
     ]
    }
   ],
   "source": [
    "#Random Forest \n",
    "from sklearn.ensemble import RandomForestClassifier\n",
    "rfc = RandomForestClassifier(max_depth=2, random_state=0)\n",
    "rfc.fit(data_train, target_train)\n",
    "print(\"score on test: \"  + str(rfc.score(data_test, target_test)))\n",
    "print(\"score on train: \" + str(rfc.score(data_train, target_train)))\n",
    "predict_rfc=rfc.predict(data_test)\n",
    "print(\"Balanced Accuracy = %.4f\" % balanced_accuracy_score(target_test, predict_rfc))"
   ]
  },
  {
   "cell_type": "markdown",
   "id": "10557c51",
   "metadata": {},
   "source": [
    "## Conclusion, Challenges and Future Work"
   ]
  },
  {
   "cell_type": "markdown",
   "id": "69e43764",
   "metadata": {},
   "source": [
    "Conclusion: Clearly, the best performing models on the textual data are Logistic Regression, Decision Trees and KNN. These models performed similarly well on both textual and tabular data.\n",
    "On the other hand, Random Forest and SVM failed to produce acceptable results on textual data even though they performed well on tabular data.\n",
    "Hence these classifiers are not suited for textual data.\n",
    "\n",
    "Challenges: Since the data had multiple categorical columns, there were options of choosing from many important 'hues' for the multivariate analysis using boxplots in the first notebook, but to the best of my knowledge, this project narrowed it down to just one, which I deemed to be the most important.\n",
    "Additionally, the dependent class was binary in nature, so it wasn't suitable for time series analysis. If the class had been continuous instead, like other features and had a rating option from 1 to 5, the visualisation of its trend over time would have made more sense.\n",
    "\n",
    "Future Work: This project limited its scope to one variable in its multivariate analysis, there were options of including others which can be looked into in the future.\n",
    "Furthermore, more features could be added to the data like branch accessability, response time etc and include their ratings to make model training more robust. \n",
    "More models could be used for a more extensive analysis.\n",
    "Lastly, the satisfaction column should be turned into a continuous class."
   ]
  }
 ],
 "metadata": {
  "kernelspec": {
   "display_name": "Python 3 (ipykernel)",
   "language": "python",
   "name": "python3"
  },
  "language_info": {
   "codemirror_mode": {
    "name": "ipython",
    "version": 3
   },
   "file_extension": ".py",
   "mimetype": "text/x-python",
   "name": "python",
   "nbconvert_exporter": "python",
   "pygments_lexer": "ipython3",
   "version": "3.8.16"
  }
 },
 "nbformat": 4,
 "nbformat_minor": 5
}
